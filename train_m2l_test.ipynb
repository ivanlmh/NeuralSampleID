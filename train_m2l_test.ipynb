{
 "cells": [
  {
   "cell_type": "code",
   "execution_count": 1,
   "metadata": {},
   "outputs": [],
   "source": [
    "import librosa"
   ]
  },
  {
   "cell_type": "code",
   "execution_count": 8,
   "metadata": {},
   "outputs": [],
   "source": [
    "audio_path = librosa.example('trumpet')\n",
    "wv, sr = librosa.load(audio_path, sr=44100)\n",
    "\n",
    "from music2latent import EncoderDecoder\n",
    "encdec = EncoderDecoder()\n",
    "\n",
    "latent = encdec.encode(wv)\n",
    "# latent has shape (batch_size/audio_channels, dim (64), sequence_length)\n",
    "\n",
    "wv_rec = encdec.decode(latent)"
   ]
  },
  {
   "cell_type": "code",
   "execution_count": 9,
   "metadata": {},
   "outputs": [
    {
     "name": "stdout",
     "output_type": "stream",
     "text": [
      "(235202,) wv.shape\n",
      "duration in seconds: 5.333378684807256\n",
      "torch.Size([1, 64, 57]) latent.shape\n",
      "torch.Size([1, 235008]) wv_rec.shape\n",
      "torch.Size([1, 8192, 57]) features.shape\n",
      "mean: tensor(-0.0793) std: tensor(1.3069) min: tensor(-4.6763) max: tensor(4.7329)\n",
      "mean: tensor(-0.0209) std: tensor(0.9941) min: tensor(-12.1267) max: tensor(12.3214)\n"
     ]
    }
   ],
   "source": [
    "print(wv.shape, \"wv.shape\")\n",
    "print(\"duration in seconds:\", wv.shape[0] / sr)\n",
    "print(latent.shape, \"latent.shape\")\n",
    "print(wv_rec.shape, \"wv_rec.shape\")\n",
    "\n",
    "features = encdec.encode(wv, extract_features=True)\n",
    "print(features.shape, \"features.shape\")\n",
    "\n",
    "\n",
    "# print some statistics on torch tensors\n",
    "print('mean:', latent.mean(), 'std:', latent.std(), 'min:', latent.min(), 'max:', latent.max())\n",
    "print('mean:', features.mean(), 'std:', features.std(), 'min:', features.min(), 'max:', features.max())\n"
   ]
  },
  {
   "cell_type": "code",
   "execution_count": 10,
   "metadata": {},
   "outputs": [],
   "source": [
    "import torch\n",
    "import torchaudio.transforms as T\n",
    "\n",
    "# dur: 1.0\n",
    "# offset: 0.2\n",
    "# norm: 0.95\n",
    "# win_len: 1024\n",
    "# hop_len: 512\n",
    "# n_mels: 64\n",
    "# n_fft: 1024\n",
    "\n",
    "# create a mel spectrogram\n",
    "mel_transform = T.MelSpectrogram(sample_rate=sr, n_fft=1024, win_length=1024, hop_length=512, n_mels=64)\n",
    "wv = torch.tensor(wv).unsqueeze(0)\n",
    "mel = mel_transform(wv)"
   ]
  },
  {
   "cell_type": "code",
   "execution_count": 11,
   "metadata": {},
   "outputs": [
    {
     "name": "stdout",
     "output_type": "stream",
     "text": [
      "torch.Size([1, 64, 460])\n",
      "frames per second: 86.1328125\n"
     ]
    }
   ],
   "source": [
    "print(mel.shape)\n",
    "print(\"frames per second:\", sr / 512)"
   ]
  },
  {
   "cell_type": "code",
   "execution_count": null,
   "metadata": {},
   "outputs": [],
   "source": []
  }
 ],
 "metadata": {
  "kernelspec": {
   "display_name": "neural_sample_id",
   "language": "python",
   "name": "python3"
  },
  "language_info": {
   "codemirror_mode": {
    "name": "ipython",
    "version": 3
   },
   "file_extension": ".py",
   "mimetype": "text/x-python",
   "name": "python",
   "nbconvert_exporter": "python",
   "pygments_lexer": "ipython3",
   "version": "3.11.10"
  }
 },
 "nbformat": 4,
 "nbformat_minor": 2
}
