{
 "cells": [
  {
   "cell_type": "code",
   "execution_count": 2,
   "metadata": {},
   "outputs": [],
   "source": [
    "import librosa"
   ]
  },
  {
   "cell_type": "code",
   "execution_count": 3,
   "metadata": {},
   "outputs": [
    {
     "name": "stderr",
     "output_type": "stream",
     "text": [
      "/home/ivanmeresman-higgs/miniconda3/envs/neural_sample_id/lib/python3.11/site-packages/tqdm/auto.py:21: TqdmWarning: IProgress not found. Please update jupyter and ipywidgets. See https://ipywidgets.readthedocs.io/en/stable/user_install.html\n",
      "  from .autonotebook import tqdm as notebook_tqdm\n",
      "/home/ivanmeresman-higgs/miniconda3/envs/neural_sample_id/lib/python3.11/site-packages/torch/amp/autocast_mode.py:250: UserWarning: User provided device_type of 'cuda', but CUDA is not available. Disabling\n",
      "  warnings.warn(\n"
     ]
    }
   ],
   "source": [
    "audio_path = librosa.example('trumpet')\n",
    "wv, sr = librosa.load(audio_path, sr=44100)\n",
    "\n",
    "from music2latent import EncoderDecoder\n",
    "encdec = EncoderDecoder()\n",
    "\n",
    "latent = encdec.encode(wv)\n",
    "# latent has shape (batch_size/audio_channels, dim (64), sequence_length)\n",
    "\n",
    "wv_rec = encdec.decode(latent)"
   ]
  },
  {
   "cell_type": "code",
   "execution_count": 4,
   "metadata": {},
   "outputs": [
    {
     "name": "stdout",
     "output_type": "stream",
     "text": [
      "(235202,)\n",
      "torch.Size([1, 64, 57])\n",
      "torch.Size([1, 235008])\n",
      "torch.Size([1, 8192, 57])\n",
      "mean: tensor(-0.0793) std: tensor(1.3069) min: tensor(-4.6763) max: tensor(4.7329)\n",
      "mean: tensor(-0.0209) std: tensor(0.9941) min: tensor(-12.1267) max: tensor(12.3214)\n"
     ]
    }
   ],
   "source": [
    "print(wv.shape)\n",
    "print(latent.shape)\n",
    "print(wv_rec.shape)\n",
    "\n",
    "features = encdec.encode(wv, extract_features=True)\n",
    "print(features.shape)\n",
    "\n",
    "\n",
    "# print some statistics on torch tensors\n",
    "print('mean:', latent.mean(), 'std:', latent.std(), 'min:', latent.min(), 'max:', latent.max())\n",
    "print('mean:', features.mean(), 'std:', features.std(), 'min:', features.min(), 'max:', features.max())\n"
   ]
  },
  {
   "cell_type": "code",
   "execution_count": 7,
   "metadata": {},
   "outputs": [],
   "source": [
    "import torch\n",
    "import torchaudio.transforms as T\n",
    "\n",
    "# create a mel spectrogram\n",
    "mel_transform = T.MelSpectrogram(sample_rate=sr, n_mels=128, n_fft=2048, hop_length=512)\n",
    "wv = torch.tensor(wv).unsqueeze(0)\n",
    "mel = mel_transform(wv)"
   ]
  },
  {
   "cell_type": "code",
   "execution_count": 8,
   "metadata": {},
   "outputs": [
    {
     "name": "stdout",
     "output_type": "stream",
     "text": [
      "torch.Size([1, 128, 460])\n"
     ]
    }
   ],
   "source": [
    "print(mel.shape)"
   ]
  }
 ],
 "metadata": {
  "kernelspec": {
   "display_name": "neural_sample_id",
   "language": "python",
   "name": "python3"
  },
  "language_info": {
   "codemirror_mode": {
    "name": "ipython",
    "version": 3
   },
   "file_extension": ".py",
   "mimetype": "text/x-python",
   "name": "python",
   "nbconvert_exporter": "python",
   "pygments_lexer": "ipython3",
   "version": "3.11.10"
  }
 },
 "nbformat": 4,
 "nbformat_minor": 2
}
